{
 "cells": [
  {
   "attachments": {},
   "cell_type": "markdown",
   "metadata": {},
   "source": [
    "Generate a set of SSH keys. Do not enter a passphrase."
   ]
  },
  {
   "cell_type": "code",
   "execution_count": null,
   "metadata": {
    "vscode": {
     "languageId": "plaintext"
    }
   },
   "outputs": [],
   "source": [
    "[operator1@serverb ~]$ ssh-keygen\n",
    "Generating public/private rsa key pair.\n",
    "Enter file in which to save the key (/home/operator1/.ssh/id_rsa): Enter\n",
    "Created directory '/home/operator1/.ssh'.\n",
    "Enter passphrase (empty for no passphrase): Enter\n",
    "Enter same passphrase again: Enter\n",
    "Your identification has been saved in /home/operator1/.ssh/id_rsa.\n",
    "Your public key has been saved in /home/operator1/.ssh/id_rsa.pub.\n",
    "The key fingerprint is:\n",
    "SHA256:JainiQdnRosC+xXh operator1@serverb.lab.example.com\n",
    "The key's randomart image is:\n",
    "+---[RSA 3072]----+\n",
    "|E+*+ooo .        |\n",
    "|.= o.o o .       |\n",
    "|o.. = . . o      |\n",
    "|+. + * . o .     |\n",
    "|+ = X . S +      |\n",
    "| + @ +   = .     |\n",
    "|. + =   o        |\n",
    "|.o . . . .       |\n",
    "|o     o..        |\n",
    "+----[SHA256]-----+"
   ]
  },
  {
   "attachments": {},
   "cell_type": "markdown",
   "metadata": {},
   "source": [
    "Send the public key of the SSH key pair to the operator1 user on the servera machine, with redhat as the password."
   ]
  },
  {
   "cell_type": "code",
   "execution_count": null,
   "metadata": {
    "vscode": {
     "languageId": "plaintext"
    }
   },
   "outputs": [],
   "source": [
    "[operator1@serverb ~]$ ssh-copy-id operator1@servera\n",
    "/usr/bin/ssh-copy-id: INFO: Source of key(s) to be installed: \"/home/operator1/.ssh/id_rsa.pub\"\n",
    "The authenticity of host 'servera (172.25.250.10)' can't be established.\n",
    "ED25519 key fingerprint is SHA256:h/hEJa/anxp6AP7BmB5azIPVbPNqieh0oKi4KWOTK80.\n",
    "This key is not known by any other names\n",
    "Are you sure you want to continue connecting (yes/no/[fingerprint])? yes\n",
    "/usr/bin/ssh-copy-id: INFO: attempting to log in with the new key(s), to filter out any that are already installed\n",
    "/usr/bin/ssh-copy-id: INFO: 1 key(s) remain to be installed -- if you are prompted now it is to install the new keys\n",
    "operator1@servera's password: redhat\n",
    "\n",
    "Number of key(s) added: 1\n",
    "\n",
    "Now try logging into the machine, with:   \"ssh 'operator1@servera'\"\n",
    "and check to make sure that only the key(s) you wanted were added."
   ]
  }
 ],
 "metadata": {
  "language_info": {
   "name": "python"
  },
  "orig_nbformat": 4
 },
 "nbformat": 4,
 "nbformat_minor": 2
}
