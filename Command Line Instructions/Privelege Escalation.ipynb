{
 "cells": [
  {
   "attachments": {},
   "cell_type": "markdown",
   "metadata": {},
   "source": [
    "Allow 'user' to Use the 'journalctl' Command as 'root'"
   ]
  },
  {
   "attachments": {},
   "cell_type": "markdown",
   "metadata": {},
   "source": [
    "Allow adam to Use the journalctl Command as root\n",
    "\n",
    "Add the following beneath the bob line we just added:\n",
    "\n",
    "adam  ALL=(root)  NOPASSWD: /bin/journalctl\n",
    "Save and exit the file by pressing Escape followed by :wq.\n",
    "\n",
    "Switch to bob:"
   ]
  },
  {
   "cell_type": "code",
   "execution_count": null,
   "metadata": {
    "vscode": {
     "languageId": "plaintext"
    }
   },
   "outputs": [],
   "source": [
    "[root@Server1]# su - bob\n",
    "Try to install PHP:\n",
    "\n",
    "[bob@Server1]$ yum install php\n",
    "We should get an error message saying it needs to be run as root.\n"
   ]
  },
  {
   "attachments": {},
   "cell_type": "markdown",
   "metadata": {},
   "source": [
    "Try it again with root:"
   ]
  },
  {
   "cell_type": "code",
   "execution_count": null,
   "metadata": {
    "vscode": {
     "languageId": "plaintext"
    }
   },
   "outputs": [],
   "source": [
    "[bob@Server1]$ sudo yum install php\n",
    "This time, it should work."
   ]
  },
  {
   "attachments": {},
   "cell_type": "markdown",
   "metadata": {},
   "source": [
    "Enter n at the prompt.\n",
    "\n",
    "Log out:"
   ]
  },
  {
   "cell_type": "code",
   "execution_count": null,
   "metadata": {
    "vscode": {
     "languageId": "plaintext"
    }
   },
   "outputs": [],
   "source": [
    "[bob@Server1]$ logout\n",
    "Switch to adam:\n",
    "\n",
    "[root@Server1]# su - adam\n",
    "Run the following:\n",
    "\n",
    "[adam@Server1]$ sudo journalctl\n",
    "We should see it works."
   ]
  },
  {
   "attachments": {},
   "cell_type": "markdown",
   "metadata": {},
   "source": [
    "Try to install PHP:"
   ]
  },
  {
   "cell_type": "code",
   "execution_count": null,
   "metadata": {
    "vscode": {
     "languageId": "plaintext"
    }
   },
   "outputs": [],
   "source": [
    "\n",
    "[adam@Server1]$ sudo yum install php\n",
    "When we enter the cloud_user password, it will fail. (This is what should happen, so we're good.)"
   ]
  }
 ],
 "metadata": {
  "kernelspec": {
   "display_name": "python3",
   "language": "python",
   "name": "python3"
  },
  "language_info": {
   "name": "python",
   "version": "3.9.16"
  },
  "orig_nbformat": 4
 },
 "nbformat": 4,
 "nbformat_minor": 2
}
