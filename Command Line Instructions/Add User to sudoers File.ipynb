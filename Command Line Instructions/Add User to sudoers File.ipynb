{
 "cells": [
  {
   "attachments": {},
   "cell_type": "markdown",
   "metadata": {},
   "source": [
    "Add 'user' to 'sudoers' File"
   ]
  },
  {
   "attachments": {},
   "cell_type": "markdown",
   "metadata": {},
   "source": [
    "Add bob to sudoers File\n",
    "Become root:\n",
    "\n",
    "[cloud_user@Server1]$ sudo -i\n",
    "Enter the cloud_user password.\n",
    "\n",
    "Open the sudoers file:\n",
    "\n",
    "[root@Server1]# visudo\n",
    "Add the following somewhere after the root permissions are defined:\n",
    "\n",
    "bob  ALL=(ALL)\tNOPASSWD: ALL"
   ]
  }
 ],
 "metadata": {
  "kernelspec": {
   "display_name": "python3",
   "language": "python",
   "name": "python3"
  },
  "language_info": {
   "name": "python",
   "version": "3.9.16"
  },
  "orig_nbformat": 4
 },
 "nbformat": 4,
 "nbformat_minor": 2
}
